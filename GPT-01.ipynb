{
 "cells": [
  {
   "cell_type": "markdown",
   "id": "6e24a955",
   "metadata": {},
   "source": [
    "# 1. import packages 导入包"
   ]
  },
  {
   "cell_type": "code",
   "execution_count": 4,
   "id": "ab376ea3",
   "metadata": {},
   "outputs": [
    {
     "data": {
      "text/plain": [
       "<torch._C.Generator at 0x29ad9ac6dd0>"
      ]
     },
     "execution_count": 4,
     "metadata": {},
     "output_type": "execute_result"
    }
   ],
   "source": [
    "import torch\n",
    "import torch.nn as nn\n",
    "import torch.nn.functional as F\n",
    "from torch.utils.data import Dataset\n",
    "from torch.utils.data import DataLoader\n",
    "from dataclasses import dataclass\n",
    "\n",
    "torch.manual_seed(1024)\n"
   ]
  },
  {
   "cell_type": "markdown",
   "id": "10fc9dd0",
   "metadata": {},
   "source": [
    "# 2. Define parameters for GPT 定义GPT的一些参数"
   ]
  },
  {
   "cell_type": "code",
   "execution_count": null,
   "id": "b4052810",
   "metadata": {},
   "outputs": [],
   "source": [
    "@dataclass\n",
    "class GPTConfig:\n",
    "    block_size: int = 512\n",
    "    batch_size: int = 12\n",
    "    n_layer: int = 12\n",
    "    n_head: int = 12\n",
    "    n_embd: int = 768\n",
    "    dropout: float = 0.1\n",
    "    head_size: int = n_embd // n_head\n",
    "    # follow gpt2 tokenzier\n",
    "    vocab_size: int = 50257\n"
   ]
  }
 ],
 "metadata": {
  "kernelspec": {
   "display_name": "bios534",
   "language": "python",
   "name": "python3"
  },
  "language_info": {
   "codemirror_mode": {
    "name": "ipython",
    "version": 3
   },
   "file_extension": ".py",
   "mimetype": "text/x-python",
   "name": "python",
   "nbconvert_exporter": "python",
   "pygments_lexer": "ipython3",
   "version": "3.11.11"
  }
 },
 "nbformat": 4,
 "nbformat_minor": 5
}
