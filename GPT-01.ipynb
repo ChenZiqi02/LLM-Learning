{
 "cells": [
  {
   "cell_type": "markdown",
   "id": "6e24a955",
   "metadata": {},
   "source": [
    "# 1. import packages 导入包"
   ]
  },
  {
   "cell_type": "code",
   "execution_count": null,
   "id": "ab376ea3",
   "metadata": {},
   "outputs": [
    {
     "data": {
      "text/plain": [
       "<torch._C.Generator at 0x285b1f26bd0>"
      ]
     },
     "execution_count": 6,
     "metadata": {},
     "output_type": "execute_result"
    }
   ],
   "source": [
    "import torch\n",
    "import torch.nn as nn #Access neural network layers and modules\n",
    "import torch.nn.functional as F #Use functional operations like activations without defining layers\n",
    "from torch.utils.data import Dataset #Base class to create custom dataset\n",
    "from torch.utils.data import DataLoader #Efficiently load and batch data for training\n",
    "from dataclasses import dataclass #Create lightweight classes for configuration or parameter\n",
    "\n",
    "torch.manual_seed(1024)\n"
   ]
  },
  {
   "cell_type": "markdown",
   "id": "10fc9dd0",
   "metadata": {},
   "source": [
    "# 2. Define parameters for GPT 定义GPT的一些参数"
   ]
  },
  {
   "cell_type": "code",
   "execution_count": null,
   "id": "b4052810",
   "metadata": {},
   "outputs": [],
   "source": [
    "@dataclass #Auto-generates __init__ and __repr__ for easy parameter management\n",
    "class GPTConfig:\n",
    "    block_size: int = 512 #文本最大长度 max sequence\n",
    "    batch_size: int = 12 #Number of samples per training batch\n",
    "    n_layer: int = 12 #Number of Transformer layers\n",
    "    n_head: int = 12 #Number of attention heads in multi-head attention\n",
    "    n_embd: int = 768 #Token embedding dimension (length of vector)\n",
    "    hidden_dim: int = n_embd #Feed-forward network hidden dimension\n",
    "    dropout: float = 0.1 #Feed-forward network hidden dimension\n",
    "    head_size: int = n_embd // n_head #Dimension per attention head\n",
    "    # follow gpt2 tokenzier\n",
    "    vocab_size: int = 50257\n"
   ]
  },
  {
   "cell_type": "markdown",
   "id": "c8c1cfa6",
   "metadata": {},
   "source": [
    "# 3. Define the Structure of GPT"
   ]
  },
  {
   "cell_type": "code",
   "execution_count": null,
   "id": "99260081",
   "metadata": {},
   "outputs": [],
   "source": [
    "# 1. single head attention\n",
    "class SingleHeadAttention(nn.Module):\n",
    "    def __init__(self,config):\n",
    "        super().__init__()\n",
    "        self.key = nn.Linear(config.hidden_dim, config.head_size)\n",
    "        self.query = nn.Linear(config.hidden_dim, config.head_size)\n",
    "        #attention_mask通过register_buffer注册\n",
    "        #不用计算梯度，节约内存显寸，速度更快\n",
    "        self.register_buff(\n",
    "            \"attention_mask\",\n",
    "            # tril 下三角\n",
    "            # block_size 512\n",
    "            torch.tril(\n",
    "                torch.ones(config.block_size, config.block_size)\n",
    "            )\n",
    "        )\n",
    "        self.dropout = nn.Dropout(config.dropout)\n",
    "\n",
    "    def forward(self,x):\n",
    "        batch_size, seq_len, hidden_dim =  x.size()\n",
    "        k = self.key(x)\n",
    "        q = self.query(x)\n",
    "        v = self.value(x)\n",
    "        weight = q @ k.transpose(-2,-1) # @是torch.matmul的简化写法\n",
    "        \n",
    "\n",
    "\n",
    "\n",
    "\n",
    "\n"
   ]
  }
 ],
 "metadata": {
  "kernelspec": {
   "display_name": "bios534",
   "language": "python",
   "name": "python3"
  },
  "language_info": {
   "codemirror_mode": {
    "name": "ipython",
    "version": 3
   },
   "file_extension": ".py",
   "mimetype": "text/x-python",
   "name": "python",
   "nbconvert_exporter": "python",
   "pygments_lexer": "ipython3",
   "version": "3.11.11"
  }
 },
 "nbformat": 4,
 "nbformat_minor": 5
}
